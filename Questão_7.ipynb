{
  "nbformat": 4,
  "nbformat_minor": 0,
  "metadata": {
    "colab": {
      "provenance": []
    },
    "kernelspec": {
      "name": "python3",
      "display_name": "Python 3"
    },
    "language_info": {
      "name": "python"
    }
  },
  "cells": [
    {
      "cell_type": "code",
      "execution_count": 3,
      "metadata": {
        "colab": {
          "base_uri": "https://localhost:8080/"
        },
        "id": "rK2utv1HHxXD",
        "outputId": "a19432a8-2777-4ee3-9c2a-02d81df83f10"
      },
      "outputs": [
        {
          "output_type": "stream",
          "name": "stderr",
          "text": [
            "/usr/local/lib/python3.12/dist-packages/jupyter_client/session.py:203: DeprecationWarning: datetime.datetime.utcnow() is deprecated and scheduled for removal in a future version. Use timezone-aware objects to represent datetimes in UTC: datetime.datetime.now(datetime.UTC).\n",
            "  return datetime.utcnow().replace(tzinfo=utc)\n",
            "/usr/local/lib/python3.12/dist-packages/jupyter_client/session.py:203: DeprecationWarning: datetime.datetime.utcnow() is deprecated and scheduled for removal in a future version. Use timezone-aware objects to represent datetimes in UTC: datetime.datetime.now(datetime.UTC).\n",
            "  return datetime.utcnow().replace(tzinfo=utc)\n",
            "/usr/local/lib/python3.12/dist-packages/jupyter_client/session.py:203: DeprecationWarning: datetime.datetime.utcnow() is deprecated and scheduled for removal in a future version. Use timezone-aware objects to represent datetimes in UTC: datetime.datetime.now(datetime.UTC).\n",
            "  return datetime.utcnow().replace(tzinfo=utc)\n",
            "/usr/local/lib/python3.12/dist-packages/jupyter_client/session.py:203: DeprecationWarning: datetime.datetime.utcnow() is deprecated and scheduled for removal in a future version. Use timezone-aware objects to represent datetimes in UTC: datetime.datetime.now(datetime.UTC).\n",
            "  return datetime.utcnow().replace(tzinfo=utc)\n",
            "/usr/local/lib/python3.12/dist-packages/jupyter_client/session.py:203: DeprecationWarning: datetime.datetime.utcnow() is deprecated and scheduled for removal in a future version. Use timezone-aware objects to represent datetimes in UTC: datetime.datetime.now(datetime.UTC).\n",
            "  return datetime.utcnow().replace(tzinfo=utc)\n",
            "/usr/local/lib/python3.12/dist-packages/jupyter_client/session.py:203: DeprecationWarning: datetime.datetime.utcnow() is deprecated and scheduled for removal in a future version. Use timezone-aware objects to represent datetimes in UTC: datetime.datetime.now(datetime.UTC).\n",
            "  return datetime.utcnow().replace(tzinfo=utc)\n",
            "/usr/local/lib/python3.12/dist-packages/jupyter_client/session.py:203: DeprecationWarning: datetime.datetime.utcnow() is deprecated and scheduled for removal in a future version. Use timezone-aware objects to represent datetimes in UTC: datetime.datetime.now(datetime.UTC).\n",
            "  return datetime.utcnow().replace(tzinfo=utc)\n"
          ]
        },
        {
          "output_type": "stream",
          "name": "stdout",
          "text": [
            "Deprecation warnings from jupyter_client suppressed.\n"
          ]
        },
        {
          "output_type": "stream",
          "name": "stderr",
          "text": [
            "/usr/local/lib/python3.12/dist-packages/jupyter_client/session.py:203: DeprecationWarning: datetime.datetime.utcnow() is deprecated and scheduled for removal in a future version. Use timezone-aware objects to represent datetimes in UTC: datetime.datetime.now(datetime.UTC).\n",
            "  return datetime.utcnow().replace(tzinfo=utc)\n"
          ]
        }
      ],
      "source": [
        "# Importar as bibliotecas\n",
        "import pandas as pd\n",
        "from mlxtend.frequent_patterns import apriori, association_rules\n",
        "import warnings\n",
        "#Como imprimia vários warnings e não tivemos tempo suficiente, solucionamos utilizamos o supressor de Warnings :)\n",
        "warnings.filterwarnings('ignore', category=DeprecationWarning, module='jupyter_client')\n",
        "print(\"Deprecation warnings from jupyter_client suppressed.\")"
      ]
    },
    {
      "cell_type": "code",
      "source": [
        "#Como não foi indicado um dataset, criamos o nosso próprio dataset\n",
        "dados = [\n",
        "    ['leite', 'pão', 'manteiga'],\n",
        "    ['cerveja', 'pão', 'fralda'],\n",
        "    ['leite', 'pão', 'fralda', 'cerveja'],\n",
        "    ['leite', 'pão', 'manteiga', 'cerveja'],\n",
        "    ['pão', 'manteiga'],\n",
        "    ['leite', 'fralda'],\n",
        "    ['cerveja', 'pão'],\n",
        "    ['leite', 'pão', 'fralda', 'manteiga'],\n",
        "]\n",
        "\n",
        "#Converter o dataset em um DataFrame e no formato de carrinhos\n",
        "from mlxtend.preprocessing import TransactionEncoder\n",
        "te = TransactionEncoder()\n",
        "te_ary = te.fit(dados).transform(dados)\n",
        "df = pd.DataFrame(te_ary, columns=te.columns_)\n",
        "\n",
        "print(\"5 primeiras linhas do dataset\")\n",
        "print(df.head())"
      ],
      "metadata": {
        "colab": {
          "base_uri": "https://localhost:8080/"
        },
        "id": "w2fYwsjBH3aq",
        "outputId": "a9bf79eb-674f-4513-cf99-55ccb2fb0f91"
      },
      "execution_count": 4,
      "outputs": [
        {
          "output_type": "stream",
          "name": "stdout",
          "text": [
            "5 primeiras linhas do dataset\n",
            "   cerveja  fralda  leite  manteiga   pão\n",
            "0    False   False   True      True  True\n",
            "1     True    True  False     False  True\n",
            "2     True    True   True     False  True\n",
            "3     True   False   True      True  True\n",
            "4    False   False  False      True  True\n"
          ]
        }
      ]
    },
    {
      "cell_type": "code",
      "metadata": {
        "colab": {
          "base_uri": "https://localhost:8080/"
        },
        "id": "00444fd4",
        "outputId": "324ff7c5-7b9b-420d-a7cb-d80cdea1342b"
      },
      "source": [
        "#Utilizando o algoritmo Apriori, o qual procura por combinações frequentes dos produtos comprados juntos\n",
        "#O 'min_support' permite definir a frequência mínima da ocorrência de itens comprados juntos\n",
        "frequent_itemsets = apriori(df, min_support=0.3, use_colnames=True)\n",
        "print(\"Conjuntos frequentes de itens ===\")\n",
        "print(frequent_itemsets)"
      ],
      "execution_count": 6,
      "outputs": [
        {
          "output_type": "stream",
          "name": "stdout",
          "text": [
            "\n",
            "=== Conjuntos frequentes de itens ===\n",
            "    support                itemsets\n",
            "0     0.500               (cerveja)\n",
            "1     0.500                (fralda)\n",
            "2     0.625                 (leite)\n",
            "3     0.500              (manteiga)\n",
            "4     0.875                   (pão)\n",
            "5     0.500          (cerveja, pão)\n",
            "6     0.375         (fralda, leite)\n",
            "7     0.375           (fralda, pão)\n",
            "8     0.375       (leite, manteiga)\n",
            "9     0.500            (leite, pão)\n",
            "10    0.500         (pão, manteiga)\n",
            "11    0.375  (leite, pão, manteiga)\n"
          ]
        }
      ]
    },
    {
      "cell_type": "code",
      "source": [
        "#Para gerar as regras de associações, utilizando suporte, confiança e o lift.\n",
        "regras = association_rules(frequent_itemsets, metric=\"lift\", min_threshold=1)\n",
        "regras = regras.sort_values(by='lift', ascending=False)\n",
        "\n",
        "print(\"Regras de Associação\")\n",
        "print(regras[['antecedents', 'consequents', 'support', 'confidence', 'lift']])\n"
      ],
      "metadata": {
        "colab": {
          "base_uri": "https://localhost:8080/"
        },
        "id": "j7-cgZdhJaZi",
        "outputId": "1635f8db-f4ae-4ad4-bf28-8f54be13b041"
      },
      "execution_count": 8,
      "outputs": [
        {
          "output_type": "stream",
          "name": "stdout",
          "text": [
            "Regras de Associação\n",
            "          antecedents        consequents  support  confidence      lift\n",
            "13         (manteiga)       (leite, pão)    0.375    0.750000  1.500000\n",
            "8        (leite, pão)         (manteiga)    0.375    0.750000  1.500000\n",
            "4             (leite)         (manteiga)    0.375    0.600000  1.200000\n",
            "5          (manteiga)            (leite)    0.375    0.750000  1.200000\n",
            "3             (leite)           (fralda)    0.375    0.600000  1.200000\n",
            "2            (fralda)            (leite)    0.375    0.750000  1.200000\n",
            "10    (pão, manteiga)            (leite)    0.375    0.750000  1.200000\n",
            "11            (leite)    (pão, manteiga)    0.375    0.600000  1.200000\n",
            "0           (cerveja)              (pão)    0.500    1.000000  1.142857\n",
            "1               (pão)          (cerveja)    0.500    0.571429  1.142857\n",
            "9   (leite, manteiga)              (pão)    0.375    1.000000  1.142857\n",
            "7          (manteiga)              (pão)    0.500    1.000000  1.142857\n",
            "6               (pão)         (manteiga)    0.500    0.571429  1.142857\n",
            "12              (pão)  (leite, manteiga)    0.375    0.428571  1.142857\n"
          ]
        }
      ]
    },
    {
      "cell_type": "code",
      "source": [
        "# Pra mostrar as 5 regras com mais relevância\n",
        "print(\"5 Regras Mais Relevantes\")\n",
        "mais_relevantes = regras.head(5)\n",
        "print(mais_relevantes[['antecedents', 'consequents', 'confidence', 'lift']])"
      ],
      "metadata": {
        "colab": {
          "base_uri": "https://localhost:8080/"
        },
        "id": "-PglMsOHJrxe",
        "outputId": "12c0448c-c0cf-4ff5-855f-56d846c338c7"
      },
      "execution_count": 10,
      "outputs": [
        {
          "output_type": "stream",
          "name": "stdout",
          "text": [
            "5 Regras Mais Relevantes\n",
            "     antecedents   consequents  confidence  lift\n",
            "13    (manteiga)  (leite, pão)        0.75   1.5\n",
            "8   (leite, pão)    (manteiga)        0.75   1.5\n",
            "4        (leite)    (manteiga)        0.60   1.2\n",
            "5     (manteiga)       (leite)        0.75   1.2\n",
            "3        (leite)      (fralda)        0.60   1.2\n"
          ]
        }
      ]
    },
    {
      "cell_type": "code",
      "source": [
        "# Recomendações: cliente compra a manteiga e leite, o algoritmo dá recomendações dos itens que ele poderia querer\n",
        "itens_cliente = {'manteiga', 'leite'}\n",
        "\n",
        "recomendacoes = []\n",
        "for _, row in regras.iterrows():\n",
        "    if row['antecedents'].issubset(itens_cliente):\n",
        "        recomendacoes.extend(list(row['consequents']))\n",
        "\n",
        "recomendacoes = list(set(recomendacoes) - itens_cliente)\n",
        "\n",
        "print(\"O cliente compra manteiga e leite e tem como recomendação comprar:\")\n",
        "print(recomendacoes if recomendacoes else \"Nenhuma recomendação encontrada.\")\n"
      ],
      "metadata": {
        "colab": {
          "base_uri": "https://localhost:8080/"
        },
        "id": "JV6LEfg3KE9c",
        "outputId": "7b363082-6671-472a-c8a8-9b2d687cf00a"
      },
      "execution_count": 15,
      "outputs": [
        {
          "output_type": "stream",
          "name": "stdout",
          "text": [
            "O cliente compra manteiga e leite e tem como recomendação comprar:\n",
            "['fralda', 'pão']\n"
          ]
        }
      ]
    },
    {
      "cell_type": "code",
      "source": [
        "\"\"\" Resposta (Continuação) As regras com maior confiança e lift inferem os produtos que tendem a ser comprados juntamente.\n",
        "Utilizando essas projeções um supermercado pode reorganizar as prateleiras dos produtos, criar promoções combinadas, permitindo uma\n",
        "melhor experiência para o cliente e um possível aumento das vendas por parte do mercado.\n",
        "\"\"\"\n"
      ],
      "metadata": {
        "colab": {
          "base_uri": "https://localhost:8080/",
          "height": 71
        },
        "id": "ryjReul6LBMa",
        "outputId": "c70e26c7-663f-4124-b3a3-c3504165da3c"
      },
      "execution_count": 17,
      "outputs": [
        {
          "output_type": "execute_result",
          "data": {
            "text/plain": [
              "' Resposta (Continuação) As regras com maior confiança e lift inferem os produtos que tendem a ser comprados juntamente.\\nUtilizando essas projeções um supermercado pode reorganizar as prateleiras dos produtos, criar promoções combinadas, permitindo uma\\nmelhor experiência para o cliente e um possível aumento das vendas por parte do mercado.\\n'"
            ],
            "application/vnd.google.colaboratory.intrinsic+json": {
              "type": "string"
            }
          },
          "metadata": {},
          "execution_count": 17
        }
      ]
    }
  ]
}