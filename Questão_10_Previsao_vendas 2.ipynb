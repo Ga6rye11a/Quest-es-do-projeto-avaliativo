{
  "cells": [
    {
      "cell_type": "code",
      "execution_count": 21,
      "metadata": {
        "id": "g3ngPjJ97MwE"
      },
      "outputs": [],
      "source": [
        "#Importação das bibliotecas necessárias\n",
        "\n",
        "import pandas as pd\n",
        "import numpy as np\n",
        "from sklearn.model_selection import train_test_split\n",
        "from sklearn.linear_model import LinearRegression\n",
        "from sklearn.tree import DecisionTreeRegressor\n",
        "from xgboost import XGBRegressor\n",
        "from sklearn.metrics import mean_squared_error, mean_absolute_error, r2_score"
      ]
    },
    {
      "cell_type": "code",
      "source": [
        "# 1. Gerar dados simulados (ou substitua por pd.read_csv('arquivo.csv'))\n",
        "dados = pd.read_csv('store.csv')\n",
        "print(\"Dados carregados com sucesso!\")\n",
        "print(dados.head())\n",
        "\n",
        "print(\"\\n📋 Colunas do dataset:\")\n",
        "print(dados.columns)\n"
      ],
      "metadata": {
        "colab": {
          "base_uri": "https://localhost:8080/"
        },
        "id": "wUOgCD1W7SQF",
        "outputId": "5b2f6620-635e-49eb-815b-4e4db8baac6d"
      },
      "execution_count": 22,
      "outputs": [
        {
          "output_type": "stream",
          "name": "stdout",
          "text": [
            "Dados carregados com sucesso!\n",
            "   Store StoreType Assortment  CompetitionDistance  CompetitionOpenSinceMonth  \\\n",
            "0      1         c          a               1270.0                        9.0   \n",
            "1      2         a          a                570.0                       11.0   \n",
            "2      3         a          a              14130.0                       12.0   \n",
            "3      4         c          c                620.0                        9.0   \n",
            "4      5         a          a              29910.0                        4.0   \n",
            "\n",
            "   CompetitionOpenSinceYear  Promo2  Promo2SinceWeek  Promo2SinceYear  \\\n",
            "0                    2008.0       0              NaN              NaN   \n",
            "1                    2007.0       1             13.0           2010.0   \n",
            "2                    2006.0       1             14.0           2011.0   \n",
            "3                    2009.0       0              NaN              NaN   \n",
            "4                    2015.0       0              NaN              NaN   \n",
            "\n",
            "     PromoInterval  \n",
            "0              NaN  \n",
            "1  Jan,Apr,Jul,Oct  \n",
            "2  Jan,Apr,Jul,Oct  \n",
            "3              NaN  \n",
            "4              NaN  \n",
            "\n",
            "📋 Colunas do dataset:\n",
            "Index(['Store', 'StoreType', 'Assortment', 'CompetitionDistance',\n",
            "       'CompetitionOpenSinceMonth', 'CompetitionOpenSinceYear', 'Promo2',\n",
            "       'Promo2SinceWeek', 'Promo2SinceYear', 'PromoInterval'],\n",
            "      dtype='object')\n"
          ]
        }
      ]
    },
    {
      "cell_type": "code",
      "source": [
        "#Engenharia de atributos\n",
        "# Como o arquivo store.csv não tem vendas, vamos criar um valor fictício com base em outras colunas\n",
        "if 'Promo' in dados.columns:\n",
        "    dados['Sales'] = (dados['Promo'].fillna(0) * 3000) + np.random.randint(5000, 20000, size=len(dados))\n",
        "else:\n",
        "    dados['Sales'] = np.random.randint(5000, 20000, size=len(dados))"
      ],
      "metadata": {
        "id": "-ebMry8X7UpB"
      },
      "execution_count": 23,
      "outputs": []
    },
    {
      "cell_type": "code",
      "source": [
        "#Garantir que todas as colunas sejam numéricas\n",
        "for c in dados.columns:\n",
        "    dados[c] = pd.to_numeric(dados[c], errors='coerce').fillna(0)\n",
        "\n"
      ],
      "metadata": {
        "id": "phJl523k7Zl3"
      },
      "execution_count": 27,
      "outputs": []
    },
    {
      "cell_type": "code",
      "source": [
        "#Dividir em treino e teste\n",
        "X = dados.drop('Sales', axis=1)\n",
        "y = dados['Sales']\n",
        "X_train, X_test, y_train, y_test = train_test_split(X, y, test_size=0.2, random_state=42)"
      ],
      "metadata": {
        "id": "mVJSPrHN7fQm"
      },
      "execution_count": 28,
      "outputs": []
    },
    {
      "cell_type": "code",
      "source": [
        "# Modelos simples\n",
        "modelos = {\n",
        "    \"Regressão Linear\": LinearRegression(),\n",
        "    \"Árvore de Decisão\": DecisionTreeRegressor(random_state=42),\n",
        "    \"XGBoost\": XGBRegressor(random_state=42, n_estimators=100, verbosity=0)\n",
        "}\n"
      ],
      "metadata": {
        "id": "Gh-Jxhxi7g99"
      },
      "execution_count": 29,
      "outputs": []
    },
    {
      "cell_type": "code",
      "source": [
        "resultados = {}\n",
        "for nome, modelo in modelos.items():\n",
        "    modelo.fit(X_train, y_train)\n",
        "    y_pred = modelo.predict(X_test)\n",
        "\n",
        "    # Remove valores NaN e garante mesmo tamanho\n",
        "    y_pred = np.nan_to_num(y_pred)\n",
        "    y_test_limpo = np.nan_to_num(y_test[:len(y_pred)])\n",
        "\n",
        "    rmse = np.sqrt(mean_squared_error(y_test_limpo, y_pred))\n",
        "    mae = mean_absolute_error(y_test_limpo, y_pred)\n",
        "    r2 = r2_score(y_test_limpo, y_pred)\n",
        "\n",
        "    resultados[nome] = {'RMSE': rmse, 'MAE': mae, 'R²': r2}"
      ],
      "metadata": {
        "id": "S2C3y3FB7irL"
      },
      "execution_count": 32,
      "outputs": []
    },
    {
      "cell_type": "code",
      "source": [
        "#Mostrar resultados\n",
        "metricas = pd.DataFrame(resultados).T\n",
        "print(\"Desempenho dos modelos:\")\n",
        "print(metricas)"
      ],
      "metadata": {
        "colab": {
          "base_uri": "https://localhost:8080/"
        },
        "id": "91DX5NwzC1gN",
        "outputId": "35328797-84c1-4a42-9165-40fa28fb4e64"
      },
      "execution_count": 35,
      "outputs": [
        {
          "output_type": "stream",
          "name": "stdout",
          "text": [
            "Desempenho dos modelos:\n",
            "                          RMSE          MAE        R²\n",
            "Regressão Linear   4223.699227  3634.031429 -0.005953\n",
            "Árvore de Decisão  6388.390156  5096.869955 -1.301307\n",
            "XGBoost            5162.783552  4238.097168 -0.503002\n"
          ]
        }
      ]
    },
    {
      "cell_type": "code",
      "source": [
        "#Melhor modelo\n",
        "melhor = metricas['RMSE'].idxmin()\n",
        "print(f\"Melhor modelo: {melhor}\")"
      ],
      "metadata": {
        "colab": {
          "base_uri": "https://localhost:8080/"
        },
        "id": "4mR_-g7zC7tl",
        "outputId": "91b1f121-420b-44ab-c80e-95542d24bad8"
      },
      "execution_count": 36,
      "outputs": [
        {
          "output_type": "stream",
          "name": "stdout",
          "text": [
            "Melhor modelo: Regressão Linear\n"
          ]
        }
      ]
    },
    {
      "cell_type": "code",
      "source": [
        "#Importância das variáveis (para árvore ou XGBoost)\n",
        "modelo_final = modelos[melhor]\n",
        "if hasattr(modelo_final, 'feature_importances_'):\n",
        "    importancias = pd.Series(modelo_final.feature_importances_, index=X.columns).sort_values(ascending=False)\n",
        "    print(\"Importância das variáveis:\")\n",
        "    print(importancias)\n",
        "else:\n",
        "    print(f\"O modelo escolhido {melhor} não calcula importância de variáveis.\")\n"
      ],
      "metadata": {
        "colab": {
          "base_uri": "https://localhost:8080/"
        },
        "id": "lXW_VTcADEPK",
        "outputId": "40ce9e7d-cf7b-4b52-f343-a3db61873ceb"
      },
      "execution_count": 39,
      "outputs": [
        {
          "output_type": "stream",
          "name": "stdout",
          "text": [
            "O modelo escolhido Regressão Linear não calcula importância de variáveis.\n"
          ]
        }
      ]
    }
  ],
  "metadata": {
    "colab": {
      "provenance": []
    },
    "kernelspec": {
      "display_name": "Python 3",
      "language": "python",
      "name": "python3"
    },
    "language_info": {
      "name": "python",
      "version": "3.x"
    }
  },
  "nbformat": 4,
  "nbformat_minor": 0
}